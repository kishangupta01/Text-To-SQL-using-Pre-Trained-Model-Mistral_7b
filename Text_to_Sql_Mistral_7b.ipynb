{
 "cells": [
  {
   "cell_type": "code",
   "execution_count": 1,
   "id": "539951a4",
   "metadata": {
    "scrolled": true
   },
   "outputs": [
    {
     "name": "stdout",
     "output_type": "stream",
     "text": [
      "Requirement already satisfied: ctransformers in c:\\users\\kishan\\anaconda3\\envs\\python_3_11_3\\lib\\site-packages (0.2.27)\n",
      "Requirement already satisfied: huggingface-hub in c:\\users\\kishan\\anaconda3\\envs\\python_3_11_3\\lib\\site-packages (from ctransformers) (0.19.4)\n",
      "Requirement already satisfied: py-cpuinfo<10.0.0,>=9.0.0 in c:\\users\\kishan\\anaconda3\\envs\\python_3_11_3\\lib\\site-packages (from ctransformers) (9.0.0)\n",
      "Requirement already satisfied: filelock in c:\\users\\kishan\\anaconda3\\envs\\python_3_11_3\\lib\\site-packages (from huggingface-hub->ctransformers) (3.13.1)\n",
      "Requirement already satisfied: fsspec>=2023.5.0 in c:\\users\\kishan\\anaconda3\\envs\\python_3_11_3\\lib\\site-packages (from huggingface-hub->ctransformers) (2023.10.0)\n",
      "Requirement already satisfied: requests in c:\\users\\kishan\\anaconda3\\envs\\python_3_11_3\\lib\\site-packages (from huggingface-hub->ctransformers) (2.31.0)\n",
      "Requirement already satisfied: tqdm>=4.42.1 in c:\\users\\kishan\\anaconda3\\envs\\python_3_11_3\\lib\\site-packages (from huggingface-hub->ctransformers) (4.66.1)\n",
      "Requirement already satisfied: pyyaml>=5.1 in c:\\users\\kishan\\anaconda3\\envs\\python_3_11_3\\lib\\site-packages (from huggingface-hub->ctransformers) (6.0.1)\n",
      "Requirement already satisfied: typing-extensions>=3.7.4.3 in c:\\users\\kishan\\anaconda3\\envs\\python_3_11_3\\lib\\site-packages (from huggingface-hub->ctransformers) (4.8.0)\n",
      "Requirement already satisfied: packaging>=20.9 in c:\\users\\kishan\\anaconda3\\envs\\python_3_11_3\\lib\\site-packages (from huggingface-hub->ctransformers) (23.0)\n",
      "Requirement already satisfied: colorama in c:\\users\\kishan\\anaconda3\\envs\\python_3_11_3\\lib\\site-packages (from tqdm>=4.42.1->huggingface-hub->ctransformers) (0.4.6)\n",
      "Requirement already satisfied: charset-normalizer<4,>=2 in c:\\users\\kishan\\anaconda3\\envs\\python_3_11_3\\lib\\site-packages (from requests->huggingface-hub->ctransformers) (3.2.0)\n",
      "Requirement already satisfied: idna<4,>=2.5 in c:\\users\\kishan\\anaconda3\\envs\\python_3_11_3\\lib\\site-packages (from requests->huggingface-hub->ctransformers) (3.4)\n",
      "Requirement already satisfied: urllib3<3,>=1.21.1 in c:\\users\\kishan\\anaconda3\\envs\\python_3_11_3\\lib\\site-packages (from requests->huggingface-hub->ctransformers) (2.0.4)\n",
      "Requirement already satisfied: certifi>=2017.4.17 in c:\\users\\kishan\\anaconda3\\envs\\python_3_11_3\\lib\\site-packages (from requests->huggingface-hub->ctransformers) (2023.7.22)\n",
      "Note: you may need to restart the kernel to use updated packages.\n"
     ]
    }
   ],
   "source": [
    "pip install ctransformers"
   ]
  },
  {
   "cell_type": "code",
   "execution_count": 2,
   "id": "28088093",
   "metadata": {},
   "outputs": [
    {
     "data": {
      "application/vnd.jupyter.widget-view+json": {
       "model_id": "383cd66714254dcbbbf583a562eba42f",
       "version_major": 2,
       "version_minor": 0
      },
      "text/plain": [
       "Fetching 1 files:   0%|          | 0/1 [00:00<?, ?it/s]"
      ]
     },
     "metadata": {},
     "output_type": "display_data"
    },
    {
     "data": {
      "application/vnd.jupyter.widget-view+json": {
       "model_id": "965abfb745814824800b5cc3be675e77",
       "version_major": 2,
       "version_minor": 0
      },
      "text/plain": [
       "Fetching 0 files: 0it [00:00, ?it/s]"
      ]
     },
     "metadata": {},
     "output_type": "display_data"
    }
   ],
   "source": [
    "from ctransformers import AutoModelForCausalLM\n",
    "\n",
    "model_file_path = r\"C:\\Users\\kishan\\Downloads\\mistral-7b-instruct-v0.1.Q4_K_M.gguf\"\n",
    "\n",
    "# Load the model\n",
    "llm = AutoModelForCausalLM.from_pretrained(\"TheBloke/Mistral-7B-Instruct-v0.1-GGUF\", model_file=model_file_path, model_type=\"mistral\", gpu_layers=50)\n"
   ]
  },
  {
   "cell_type": "code",
   "execution_count": 4,
   "id": "2941b535",
   "metadata": {},
   "outputs": [
    {
     "name": "stdout",
     "output_type": "stream",
     "text": [
      "\n",
      "SELECT * FROM employees;\n"
     ]
    }
   ],
   "source": [
    "result = llm(\"Retrieve all columns from the 'employees' table.\")\n",
    "print(result)"
   ]
  },
  {
   "cell_type": "code",
   "execution_count": 6,
   "id": "b54a458c",
   "metadata": {},
   "outputs": [
    {
     "name": "stdout",
     "output_type": "stream",
     "text": [
      "\n",
      "\n",
      "```sql\n",
      "SELECT * FROM employees \n",
      "WHERE salary > 50000 \n",
      "ORDER BY salary DESC;\n",
      "```\n"
     ]
    }
   ],
   "source": [
    "table_name = \"employees\"\n",
    "prompt = f\"Retrieve employee information from the '{table_name}' table where salary is above $50,000, and sort the results by the highest salary.\"\n",
    "result = llm(prompt)\n",
    "print(result)"
   ]
  },
  {
   "cell_type": "code",
   "execution_count": 3,
   "id": "a19acd68",
   "metadata": {},
   "outputs": [
    {
     "name": "stdout",
     "output_type": "stream",
     "text": [
      "\n",
      "```\n",
      "SELECT * FROM orders WHERE order_status = 'shipped' AND order_date > '2023-01-01' ORDER BY order_date ASC;\n",
      "```\n",
      "Please note that the `WHERE` clause filters the rows based on specific conditions, and the `ORDER BY` clause sorts the remaining rows in a specified order.\n"
     ]
    }
   ],
   "source": [
    "table_name = \"orders\"\n",
    "prompt = f\"List orders from the '{table_name}' table where the order status is 'shipped' and the order date is after '2023-01-01', ordered by the order date in ascending order.\"\n",
    "result = llm(prompt)\n",
    "print(result)"
   ]
  },
  {
   "cell_type": "code",
   "execution_count": 4,
   "id": "71c743c1",
   "metadata": {},
   "outputs": [
    {
     "name": "stdout",
     "output_type": "stream",
     "text": [
      "\n",
      "\n",
      "```sql\n",
      "SELECT c.customer_id, c.name, SUM(o.total) as total_purchase\n",
      "FROM customers c\n",
      "JOIN orders o ON c.customer_id = o.customer_id\n",
      "WHERE o.order_date >= DATE(NOW()) - INTERVAL 3 MONTH\n",
      "GROUP BY c.customer_id, c.name\n",
      "HAVING SUM(o.total) > 1000\n",
      "ORDER BY total_purchase DESC;\n",
      "```\n"
     ]
    }
   ],
   "source": [
    "table_name = \"customers\"\n",
    "prompt = f\"List customers from the '{table_name}' table who have made purchases worth more than $1,000 in the last 3 months, ordered by their total purchase amount in descending order.\"\n",
    "result = llm(prompt)\n",
    "print(result)"
   ]
  },
  {
   "cell_type": "code",
   "execution_count": 5,
   "id": "8802da8a",
   "metadata": {},
   "outputs": [
    {
     "name": "stdout",
     "output_type": "stream",
     "text": [
      "\n",
      "\n",
      "```sql\n",
      "SELECT * FROM products\n",
      "WHERE stock_quantity < 50 AND price > 100\n",
      "ORDER BY price DESC;\n",
      "```\n"
     ]
    }
   ],
   "source": [
    "table_name = \"products\"\n",
    "prompt = f\"Retrieve product details from the '{table_name}' table where the stock quantity is less than 50 and the product price is greater than $100, ordered by the product price in descending order.\"\n",
    "result = llm(prompt)\n",
    "print(result)"
   ]
  },
  {
   "cell_type": "code",
   "execution_count": null,
   "id": "dd37441f",
   "metadata": {},
   "outputs": [],
   "source": []
  }
 ],
 "metadata": {
  "kernelspec": {
   "display_name": "Python 3 (ipykernel)",
   "language": "python",
   "name": "python3"
  },
  "language_info": {
   "codemirror_mode": {
    "name": "ipython",
    "version": 3
   },
   "file_extension": ".py",
   "mimetype": "text/x-python",
   "name": "python",
   "nbconvert_exporter": "python",
   "pygments_lexer": "ipython3",
   "version": "3.11.3"
  }
 },
 "nbformat": 4,
 "nbformat_minor": 5
}
